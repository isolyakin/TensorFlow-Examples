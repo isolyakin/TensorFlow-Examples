{
 "cells": [
  {
   "cell_type": "markdown",
   "metadata": {
    "collapsed": true
   },
   "source": [
    "# Logistic Regression Example\n",
    "\n",
    "A logistic regression learning algorithm example using TensorFlow library.\n",
    "This example is using the MNIST database of handwritten digits (http://yann.lecun.com/exdb/mnist/)\n",
    "\n",
    "- Author: Aymeric Damien\n",
    "- Project: https://github.com/aymericdamien/TensorFlow-Examples/"
   ]
  },
  {
   "cell_type": "code",
   "execution_count": 3,
   "metadata": {},
   "outputs": [],
   "source": [
    "import tensorflow as tf\n",
    "import matplotlib.pyplot as plt\n",
    "plt.rcParams[\"figure.figsize\"] = (15,9)"
   ]
  },
  {
   "cell_type": "code",
   "execution_count": 4,
   "metadata": {},
   "outputs": [
    {
     "name": "stdout",
     "output_type": "stream",
     "text": [
      "Extracting /tmp/data/train-images-idx3-ubyte.gz\n",
      "Extracting /tmp/data/train-labels-idx1-ubyte.gz\n",
      "Extracting /tmp/data/t10k-images-idx3-ubyte.gz\n",
      "Extracting /tmp/data/t10k-labels-idx1-ubyte.gz\n"
     ]
    }
   ],
   "source": [
    "# Import MINST data\n",
    "from tensorflow.examples.tutorials.mnist import input_data\n",
    "mnist = input_data.read_data_sets(\"/tmp/data/\", one_hot=True)"
   ]
  },
  {
   "cell_type": "code",
   "execution_count": 13,
   "metadata": {},
   "outputs": [],
   "source": [
    "# Parameters\n",
    "learning_rate = 0.01\n",
    "training_epochs = 25\n",
    "batch_size = 100\n",
    "display_step = 1\n",
    "\n",
    "# tf Graph Input\n",
    "x = tf.placeholder(tf.float32, [None, 784]) # mnist data image of shape 28*28=784\n",
    "y = tf.placeholder(tf.float32, [None, 10]) # 0-9 digits recognition => 10 classes\n",
    "\n",
    "# Set model weights\n",
    "W = tf.Variable(tf.zeros([784, 10]))\n",
    "b = tf.Variable(tf.zeros([10]))\n",
    "\n",
    "# Construct model\n",
    "pred = tf.nn.softmax(tf.matmul(x, W) + b) # Softmax\n",
    "\n",
    "# Minimize error using cross entropy\n",
    "cost = tf.reduce_mean(-tf.reduce_sum(y*tf.log(pred), axis=1))\n",
    "# Gradient Descent\n",
    "optimizer = tf.train.RMSPropOptimizer(learning_rate).minimize(cost)\n",
    "\n",
    "# Initialize the variables (i.e. assign their default value)\n",
    "init = tf.global_variables_initializer()"
   ]
  },
  {
   "cell_type": "code",
   "execution_count": 14,
   "metadata": {},
   "outputs": [
    {
     "name": "stdout",
     "output_type": "stream",
     "text": [
      "Epoch: 0001 cost = 0.518642547\n",
      "Epoch: 0002 cost = 0.317675535\n",
      "Epoch: 0003 cost = nan\n",
      "Epoch: 0004 cost = nan\n",
      "Epoch: 0005 cost = nan\n",
      "Epoch: 0006 cost = nan\n",
      "Epoch: 0007 cost = nan\n",
      "Epoch: 0008 cost = nan\n",
      "Epoch: 0009 cost = nan\n",
      "Epoch: 0010 cost = nan\n",
      "Epoch: 0011 cost = nan\n",
      "Epoch: 0012 cost = nan\n",
      "Epoch: 0013 cost = nan\n",
      "Epoch: 0014 cost = nan\n",
      "Epoch: 0015 cost = nan\n",
      "Epoch: 0016 cost = nan\n",
      "Epoch: 0017 cost = nan\n",
      "Epoch: 0018 cost = nan\n",
      "Epoch: 0019 cost = nan\n",
      "Epoch: 0020 cost = nan\n",
      "Epoch: 0021 cost = nan\n",
      "Epoch: 0022 cost = nan\n",
      "Epoch: 0023 cost = nan\n",
      "Epoch: 0024 cost = nan\n",
      "Epoch: 0025 cost = nan\n",
      "Optimization Finished!\n",
      "Accuracy: 0.0903333\n"
     ]
    }
   ],
   "source": [
    "# Start training\n",
    "with tf.Session() as sess:\n",
    "    sess.run(init)\n",
    "\n",
    "    # Training cycle\n",
    "    for epoch in range(training_epochs):\n",
    "        avg_cost = 0.\n",
    "        total_batch = int(mnist.train.num_examples/batch_size)\n",
    "        # Loop over all batches\n",
    "        for i in range(total_batch):\n",
    "            batch_xs, batch_ys = mnist.train.next_batch(batch_size)\n",
    "            # Fit training using batch data\n",
    "            _, c = sess.run([optimizer, cost], feed_dict={x: batch_xs, y: batch_ys})\n",
    "            # Compute average loss\n",
    "            avg_cost += c / total_batch\n",
    "        # Display logs per epoch step\n",
    "        if (epoch+1) % display_step == 0:\n",
    "            print (\"Epoch:\", '%04d' % (epoch+1), \"cost =\", \"{:.9f}\".format(avg_cost))\n",
    "\n",
    "    print (\"Optimization Finished!\")\n",
    "\n",
    "    # Test model\n",
    "    correct_prediction = tf.equal(tf.argmax(pred, 1), tf.argmax(y, 1))\n",
    "    # Calculate accuracy for 3000 examples\n",
    "    accuracy = tf.reduce_mean(tf.cast(correct_prediction, tf.float32))\n",
    "    print (\"Accuracy:\", accuracy.eval({x: mnist.test.images[:3000], y: mnist.test.labels[:3000]}))"
   ]
  },
  {
   "cell_type": "markdown",
   "metadata": {},
   "source": [
    "AdamOptimizer\n",
    "```python\n",
    "Epoch: 0001 cost = 0.361675045\n",
    "Epoch: 0002 cost = 0.298970559\n",
    "Epoch: 0003 cost = 0.288769366\n",
    "Epoch: 0004 cost = 0.285408240\n",
    "Epoch: 0005 cost = 0.283692228\n",
    "Epoch: 0006 cost = 0.276906072\n",
    "Epoch: 0007 cost = 0.276427931\n",
    "Epoch: 0008 cost = nan\n",
    "Epoch: 0009 cost = nan\n",
    "Epoch: 0010 cost = nan\n",
    "Epoch: 0011 cost = nan\n",
    "Epoch: 0012 cost = nan\n",
    "Epoch: 0013 cost = nan\n",
    "Epoch: 0014 cost = nan\n",
    "Epoch: 0015 cost = nan\n",
    "Epoch: 0016 cost = nan\n",
    "Epoch: 0017 cost = nan\n",
    "Epoch: 0018 cost = nan\n",
    "Epoch: 0019 cost = nan\n",
    "Epoch: 0020 cost = nan\n",
    "Epoch: 0021 cost = nan\n",
    "Epoch: 0022 cost = nan\n",
    "Epoch: 0023 cost = nan\n",
    "Epoch: 0024 cost = nan\n",
    "Epoch: 0025 cost = nan\n",
    "Optimization Finished!\n",
    "Accuracy: 0.0903333```"
   ]
  },
  {
   "cell_type": "markdown",
   "metadata": {},
   "source": [
    "GradientDescentOptimizer\n",
    "```python \n",
    "Epoch: 0001 cost = 1.183696304\n",
    "Epoch: 0002 cost = 0.665356710\n",
    "Epoch: 0003 cost = 0.552879873\n",
    "Epoch: 0004 cost = 0.498750605\n",
    "Epoch: 0005 cost = 0.465504965\n",
    "Epoch: 0006 cost = 0.442631221\n",
    "Epoch: 0007 cost = 0.425511703\n",
    "Epoch: 0008 cost = 0.412157585\n",
    "Epoch: 0009 cost = 0.401433004\n",
    "Epoch: 0010 cost = 0.392410344\n",
    "Epoch: 0011 cost = 0.384753543\n",
    "Epoch: 0012 cost = 0.378148372\n",
    "Epoch: 0013 cost = 0.372378035\n",
    "Epoch: 0014 cost = 0.367284291\n",
    "Epoch: 0015 cost = 0.362740744\n",
    "Epoch: 0016 cost = 0.358625480\n",
    "Epoch: 0017 cost = 0.354877754\n",
    "Epoch: 0018 cost = 0.351465592\n",
    "Epoch: 0019 cost = 0.348312076\n",
    "Epoch: 0020 cost = 0.345416591\n",
    "Epoch: 0021 cost = 0.342766170\n",
    "Epoch: 0022 cost = 0.340245704\n",
    "Epoch: 0023 cost = 0.337928486\n",
    "Epoch: 0024 cost = 0.335732542\n",
    "Epoch: 0025 cost = 0.333686892\n",
    "Optimization Finished!\n",
    "Accuracy: 0.889\n",
    "    ```"
   ]
  },
  {
   "cell_type": "markdown",
   "metadata": {},
   "source": [
    "RMSPropOptimizer"
   ]
  }
 ],
 "metadata": {
  "anaconda-cloud": {},
  "kernelspec": {
   "display_name": "Python 3",
   "language": "python",
   "name": "python3"
  },
  "language_info": {
   "codemirror_mode": {
    "name": "ipython",
    "version": 3
   },
   "file_extension": ".py",
   "mimetype": "text/x-python",
   "name": "python",
   "nbconvert_exporter": "python",
   "pygments_lexer": "ipython3",
   "version": "3.6.3"
  }
 },
 "nbformat": 4,
 "nbformat_minor": 1
}
